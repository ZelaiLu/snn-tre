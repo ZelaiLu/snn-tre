{
 "cells": [
  {
   "cell_type": "code",
   "execution_count": 5,
   "metadata": {},
   "outputs": [
    {
     "name": "stdout",
     "output_type": "stream",
     "text": [
      "tensor([[1., 1., 0.],\n",
      "        [1., 1., 0.],\n",
      "        [1., 0., 1.]], dtype=torch.float64)\n"
     ]
    },
    {
     "ename": "TypeError",
     "evalue": "clamp() received an invalid combination of arguments - got (numpy.ndarray, int, int), but expected one of:\n * (Tensor input, Tensor min, Tensor max, *, Tensor out)\n * (Tensor input, Number min, Number max, *, Tensor out)\n",
     "output_type": "error",
     "traceback": [
      "\u001b[0;31m---------------------------------------------------------------------------\u001b[0m",
      "\u001b[0;31mTypeError\u001b[0m                                 Traceback (most recent call last)",
      "Cell \u001b[0;32mIn[5], line 13\u001b[0m\n\u001b[1;32m     11\u001b[0m \u001b[39mprint\u001b[39m(spikegen\u001b[39m.\u001b[39mrate(torch\u001b[39m.\u001b[39masarray(x), num_steps\u001b[39m=\u001b[39m\u001b[39m3\u001b[39m))\n\u001b[1;32m     12\u001b[0m \u001b[39m# Codifica rate coding dei valori di input\u001b[39;00m\n\u001b[0;32m---> 13\u001b[0m f \u001b[39m=\u001b[39m rate_encode(x)\n\u001b[1;32m     15\u001b[0m \u001b[39m# Generazione degli spike in base alla frequenza di scarica\u001b[39;00m\n\u001b[1;32m     16\u001b[0m \u001b[39m# spikes = neuromodulation.poisson_spike_generator(f, t=1000, dt=0.1)\u001b[39;00m\n\u001b[1;32m     17\u001b[0m \n\u001b[1;32m     18\u001b[0m \u001b[39m# Stampa del vettore degli spike\u001b[39;00m\n\u001b[1;32m     19\u001b[0m \u001b[39mprint\u001b[39m(\u001b[39m'\u001b[39m\u001b[39mVettore degli spike:\u001b[39m\u001b[39m'\u001b[39m)\n",
      "Cell \u001b[0;32mIn[5], line 7\u001b[0m, in \u001b[0;36mrate_encode\u001b[0;34m(x)\u001b[0m\n\u001b[1;32m      6\u001b[0m \u001b[39mdef\u001b[39;00m \u001b[39mrate_encode\u001b[39m(x):\n\u001b[0;32m----> 7\u001b[0m     \u001b[39mreturn\u001b[39;00m torch\u001b[39m.\u001b[39;49mclamp(\u001b[39m100\u001b[39;49m \u001b[39m*\u001b[39;49m x, \u001b[39m0\u001b[39;49m, \u001b[39m100\u001b[39;49m)\n",
      "\u001b[0;31mTypeError\u001b[0m: clamp() received an invalid combination of arguments - got (numpy.ndarray, int, int), but expected one of:\n * (Tensor input, Tensor min, Tensor max, *, Tensor out)\n * (Tensor input, Number min, Number max, *, Tensor out)\n"
     ]
    }
   ],
   "source": [
    "import torch\n",
    "import numpy as np\n",
    "from snntorch import spikegen\n",
    "\n",
    "# Definizione della funzione di codifica rate coding\n",
    "def rate_encode(x):\n",
    "    return torch.clamp(100 * x, 0, 100)\n",
    "\n",
    "# Definizione dei valori di input\n",
    "x = np.array([0.2, 0.8, 0.5])\n",
    "print(spikegen.rate(torch.asarray(x), num_steps=3))\n",
    "# Codifica rate coding dei valori di input\n",
    "f = rate_encode(x)\n",
    "\n",
    "# Generazione degli spike in base alla frequenza di scarica\n",
    "# spikes = neuromodulation.poisson_spike_generator(f, t=1000, dt=0.1)\n",
    "\n",
    "# Stampa del vettore degli spike\n",
    "print('Vettore degli spike:')\n",
    "# print(spikes)\n"
   ]
  }
 ],
 "metadata": {
  "kernelspec": {
   "display_name": "Python 3 (ipykernel)",
   "language": "python",
   "name": "python3"
  },
  "language_info": {
   "codemirror_mode": {
    "name": "ipython",
    "version": 3
   },
   "file_extension": ".py",
   "mimetype": "text/x-python",
   "name": "python",
   "nbconvert_exporter": "python",
   "pygments_lexer": "ipython3",
   "version": "3.10.6"
  },
  "orig_nbformat": 4
 },
 "nbformat": 4,
 "nbformat_minor": 2
}
