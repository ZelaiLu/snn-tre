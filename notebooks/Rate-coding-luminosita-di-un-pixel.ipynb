{
 "cells": [
  {
   "attachments": {},
   "cell_type": "markdown",
   "metadata": {},
   "source": [
    "# Importazione delle librerie"
   ]
  },
  {
   "attachments": {},
   "cell_type": "markdown",
   "metadata": {},
   "source": [
    "<a target=\"_blank\" href=\"https://colab.research.google.com/github/socrates77/snn-tre/blob/main/notebooks/Rate-coding-luminosita-di-un-pixel.ipynb\">\n",
    "  <img src=\"https://colab.research.google.com/assets/colab-badge.svg\" alt=\"Open In Colab\"/>\n",
    "</a>"
   ]
  },
  {
   "cell_type": "code",
   "execution_count": 9,
   "metadata": {},
   "outputs": [
    {
     "name": "stdout",
     "output_type": "stream",
     "text": [
      "Requirement already satisfied: snnTorch in /home/alessandro/tesi/tesi-python/lib/python3.10/site-packages (0.5.3)\n",
      "Requirement already satisfied: torch>=1.1.0 in /home/alessandro/tesi/tesi-python/lib/python3.10/site-packages (from snnTorch) (1.13.0)\n",
      "Requirement already satisfied: numpy>=1.17 in /home/alessandro/tesi/tesi-python/lib/python3.10/site-packages (from snnTorch) (1.23.5)\n",
      "Requirement already satisfied: pandas in /home/alessandro/tesi/tesi-python/lib/python3.10/site-packages (from snnTorch) (1.5.2)\n",
      "Requirement already satisfied: matplotlib in /home/alessandro/tesi/tesi-python/lib/python3.10/site-packages (from snnTorch) (3.6.2)\n",
      "Requirement already satisfied: nvidia-cudnn-cu11==8.5.0.96 in /home/alessandro/tesi/tesi-python/lib/python3.10/site-packages (from torch>=1.1.0->snnTorch) (8.5.0.96)\n",
      "Requirement already satisfied: nvidia-cuda-nvrtc-cu11==11.7.99 in /home/alessandro/tesi/tesi-python/lib/python3.10/site-packages (from torch>=1.1.0->snnTorch) (11.7.99)\n",
      "Requirement already satisfied: nvidia-cuda-runtime-cu11==11.7.99 in /home/alessandro/tesi/tesi-python/lib/python3.10/site-packages (from torch>=1.1.0->snnTorch) (11.7.99)\n",
      "Requirement already satisfied: typing-extensions in /home/alessandro/tesi/tesi-python/lib/python3.10/site-packages (from torch>=1.1.0->snnTorch) (4.4.0)\n",
      "Requirement already satisfied: nvidia-cublas-cu11==11.10.3.66 in /home/alessandro/tesi/tesi-python/lib/python3.10/site-packages (from torch>=1.1.0->snnTorch) (11.10.3.66)\n",
      "Requirement already satisfied: setuptools in /home/alessandro/tesi/tesi-python/lib/python3.10/site-packages (from nvidia-cublas-cu11==11.10.3.66->torch>=1.1.0->snnTorch) (59.6.0)\n",
      "Requirement already satisfied: wheel in /home/alessandro/tesi/tesi-python/lib/python3.10/site-packages (from nvidia-cublas-cu11==11.10.3.66->torch>=1.1.0->snnTorch) (0.38.4)\n",
      "Requirement already satisfied: packaging>=20.0 in /home/alessandro/tesi/tesi-python/lib/python3.10/site-packages (from matplotlib->snnTorch) (22.0)\n",
      "Requirement already satisfied: contourpy>=1.0.1 in /home/alessandro/tesi/tesi-python/lib/python3.10/site-packages (from matplotlib->snnTorch) (1.0.6)\n",
      "Requirement already satisfied: pyparsing>=2.2.1 in /home/alessandro/tesi/tesi-python/lib/python3.10/site-packages (from matplotlib->snnTorch) (3.0.9)\n",
      "Requirement already satisfied: fonttools>=4.22.0 in /home/alessandro/tesi/tesi-python/lib/python3.10/site-packages (from matplotlib->snnTorch) (4.38.0)\n",
      "Requirement already satisfied: cycler>=0.10 in /home/alessandro/tesi/tesi-python/lib/python3.10/site-packages (from matplotlib->snnTorch) (0.11.0)\n",
      "Requirement already satisfied: pillow>=6.2.0 in /home/alessandro/tesi/tesi-python/lib/python3.10/site-packages (from matplotlib->snnTorch) (9.3.0)\n",
      "Requirement already satisfied: kiwisolver>=1.0.1 in /home/alessandro/tesi/tesi-python/lib/python3.10/site-packages (from matplotlib->snnTorch) (1.4.4)\n",
      "Requirement already satisfied: python-dateutil>=2.7 in /home/alessandro/tesi/tesi-python/lib/python3.10/site-packages (from matplotlib->snnTorch) (2.8.2)\n",
      "Requirement already satisfied: pytz>=2020.1 in /home/alessandro/tesi/tesi-python/lib/python3.10/site-packages (from pandas->snnTorch) (2022.6)\n",
      "Requirement already satisfied: six>=1.5 in /home/alessandro/tesi/tesi-python/lib/python3.10/site-packages (from python-dateutil>=2.7->matplotlib->snnTorch) (1.16.0)\n",
      "Note: you may need to restart the kernel to use updated packages.\n"
     ]
    }
   ],
   "source": [
    "%pip install snnTorch"
   ]
  },
  {
   "cell_type": "code",
   "execution_count": 10,
   "metadata": {},
   "outputs": [],
   "source": [
    "import matplotlib\n",
    "import matplotlib.pyplot as plt\n",
    "import ipywidgets as widgets\n",
    "import numpy as np\n",
    "import io\n",
    "from PIL import Image\n",
    "import torch\n",
    "from snntorch import spikegen\n",
    "\n",
    "font = {\n",
    "    'size': 18\n",
    "}\n",
    "matplotlib.rc('font', **font)"
   ]
  },
  {
   "attachments": {},
   "cell_type": "markdown",
   "metadata": {},
   "source": [
    "## Classi per la gestione dei parametri variabili"
   ]
  },
  {
   "cell_type": "code",
   "execution_count": 11,
   "metadata": {},
   "outputs": [],
   "source": [
    "class Threshold:\n",
    "    v_threshold=0.09\n",
    "    def __init__(self, v_threshold=0.09):\n",
    "        self.v_threshold = v_threshold\n",
    "    def set_v_threshold(self, v_threshold):\n",
    "        self.v_threshold = v_threshold\n",
    "    def get_v_threshold(self):\n",
    "        return self.v_threshold\n",
    "    \n",
    "class PixelIntensity:\n",
    "    pixel_intensity=0.0\n",
    "    def set_pixel_intensity(self, pixel_intensity):\n",
    "        self.pixel_intensity = pixel_intensity;\n",
    "    def get_pixel_intensity(self):\n",
    "        return self.pixel_intensity\n",
    "\n",
    "v_th_obj = Threshold()\n",
    "pixel_intensity = PixelIntensity()"
   ]
  },
  {
   "attachments": {},
   "cell_type": "markdown",
   "metadata": {},
   "source": [
    "## Modello e funzione per graficare"
   ]
  },
  {
   "cell_type": "code",
   "execution_count": 12,
   "metadata": {},
   "outputs": [],
   "source": [
    "output = widgets.Output()\n",
    "\n",
    "def lif_neuron(v, time_step=1e-3, v_th=35e-3, I=0, R=5e7, C=1e-10):\n",
    "  '''\n",
    "  Implementazione del modello Leaky Integrate and Fire in python.\n",
    "  '''\n",
    "  tau=R*C\n",
    "  spk = (v>=v_th)\n",
    "  # Sottraggo la tensione di soglia quando ho un spike\n",
    "  v = v + (time_step/tau)*(-v + I*R) - (spk*v_th) \n",
    "    \n",
    "  return v, spk\n",
    "\n",
    "def v_mem_spike_plot(time_vector, v_mem, spk_rec, I=[], filename='figure.eps', format='eps', title=''):\n",
    "  # Creare la figura\n",
    "  spike_record = [1 if element == 1 else None for element in spk_rec]\n",
    "  fig, axs = plt.subplots(nrows=2, ncols=1, figsize=(14, 9), height_ratios=[10, 1]) # crea la figura e gli assi\n",
    "  fig.tight_layout()\n",
    "  axs[0].set_title(title)\n",
    "  \n",
    "  if ( len(I) != 0 and len(I) == len(v_mem) ):\n",
    "    axs_1 = axs[0].twinx()\n",
    "    axs[0].plot(time_vector, v_mem, scaley=True) # disegna il grafico della tensione ai capi del condensatore\n",
    "    axs_1.set_ylabel('$I_{syn}$', color='r')\n",
    "    axs_1.plot(time_vector, I, 'r-', scaley=True)\n",
    "  else:\n",
    "    axs[0].plot(time_vector, v_mem) # disegna il grafico della tensione ai capi del condensatore\n",
    "\n",
    "  axs[0].set_xlim((-2, 202))\n",
    "  axs[0].set_xlabel('Tempo') # aggiungi l'etichetta all'asse x\n",
    "  axs[0].set_ylabel('Potenziale di membrana') # aggiungi l'etichetta all'asse y\n",
    "\n",
    "  axs[1].scatter(time_vector, spike_record, marker='|', color=['b'])\n",
    "  axs[1].set_yticks([])\n",
    "  axs[1].set_xlim((-2, 202))\n",
    "  axs[1].set_xlabel('Tempo') # aggiungi l'etichetta all'asse x\n",
    "  axs[1].set_ylabel('Spikes') # aggiungi l'etichetta all'asse y\n",
    "\n",
    "  # Salvare la figura in formato EPS\n",
    "  fig.savefig(filename, format=format)\n",
    "\n",
    "  with output:\n",
    "    output.clear_output(wait=True)\n",
    "    plt.show()"
   ]
  },
  {
   "attachments": {},
   "cell_type": "markdown",
   "metadata": {},
   "source": [
    "# Widgets Original"
   ]
  },
  {
   "cell_type": "code",
   "execution_count": 21,
   "metadata": {},
   "outputs": [],
   "source": [
    "pixel_intensity_slider = widgets.IntSlider(\n",
    "    value=0,\n",
    "    min=0,\n",
    "    max=255,\n",
    "    step=3,\n",
    "    description='Pixel Intensity:',\n",
    "    orientation='vertical',\n",
    "    readout=True,\n",
    "    # readout_format='.2f',\n",
    ")\n",
    "\n",
    "v_threshold_slider = widgets.FloatSlider(\n",
    "    value=0.1,\n",
    "    min=0.09,\n",
    "    max=1,\n",
    "    step=0.01,\n",
    "    description='Threshold:',\n",
    "    orientation='vertical',\n",
    "    readout=True,\n",
    "    readout_format='.2f',\n",
    ")\n",
    "\n",
    "# Creiamo un widget Image per mostrare il pixel\n",
    "pixel_image = widgets.Image(\n",
    "    format='jpeg',\n",
    "    width=100,\n",
    "    height=100,\n",
    ")\n",
    "\n",
    "def init_pixel_image():\n",
    "    pixel_intensity_value=0.0\n",
    "    image_array = np.ones( (100,100), dtype=np.uint8 )*pixel_intensity_value\n",
    "    # Convertiamo l'array in un oggetto immagine JPEG\n",
    "    pil_image = Image.fromarray(image_array)\n",
    "    pil_image = pil_image.convert('L')\n",
    "    byte_io = io.BytesIO()\n",
    "    pil_image.save(byte_io, 'jpeg')\n",
    "    image_data = byte_io.getvalue()\n",
    "    pixel_image.value = image_data\n",
    "\n",
    "def update_pixel_image(change):\n",
    "    pixel_intensity_value=change.new\n",
    "    image_array = np.ones( (100,100), dtype=np.uint8 )*pixel_intensity_value\n",
    "    # Convertiamo l'array in un oggetto immagine JPEG\n",
    "    pil_image = Image.fromarray(image_array)\n",
    "    pil_image = pil_image.convert('L')\n",
    "    byte_io = io.BytesIO()\n",
    "    pil_image.save(byte_io, 'jpeg')\n",
    "    image_data = byte_io.getvalue()\n",
    "    pixel_image.value = image_data\n",
    "\n",
    "def update_v_threshold(change):\n",
    "    v_th_obj.set_v_threshold(change.new)\n",
    "    run_network(pixel_intensity.get_pixel_intensity(), v_th_obj.get_v_threshold())\n",
    "\n",
    "def update_pixel(change):\n",
    "    pixel_intensity.set_pixel_intensity(change.new)\n",
    "    run_network(pixel_intensity.get_pixel_intensity(), v_th_obj.get_v_threshold())\n",
    "\n",
    "def run_network(pixel_intensity_value, v_threshold):\n",
    "    spike_vector, _ = spikegen.target_rate_code(num_steps=1250, rate=(pixel_intensity_value/(255*10)))\n",
    "    spike_vector = spike_vector*1e-8\n",
    "    prev = 0.0\n",
    "    spk = 0.0\n",
    "    spk_rec = torch.zeros_like(spike_vector)\n",
    "    v_mem = torch.zeros_like(spike_vector)\n",
    "    time_vector = range(0, len(spike_vector))\n",
    "\n",
    "    for i in time_vector:\n",
    "        I = spike_vector[i]\n",
    "        v_mem[i] = prev\n",
    "        spk_rec[i] = spk\n",
    "        prev, spk = lif_neuron(prev, I=I, v_th=v_threshold )\n",
    "    figure=\"../figures/rate-coding-spike-intensity-{:.2f}-threshold-{:.2f}.eps\".format( pixel_intensity_value, v_threshold )\n",
    "    title=\"Rate coding, Pixel Intensity {:.2f}, Threshold: {:.2f}\".format( pixel_intensity_value, v_threshold )\n",
    "    v_mem_spike_plot(time_vector, v_mem, spk_rec, spike_vector, filename=figure, title=title)\n"
   ]
  },
  {
   "cell_type": "code",
   "execution_count": 22,
   "metadata": {},
   "outputs": [
    {
     "data": {
      "application/vnd.jupyter.widget-view+json": {
       "model_id": "e3343dcca9cd4218b68c7b319b55c476",
       "version_major": 2,
       "version_minor": 0
      },
      "text/plain": [
       "VBox(children=(HBox(children=(IntSlider(value=0, description='Pixel Intensity:', max=255, orientation='vertica…"
      ]
     },
     "metadata": {},
     "output_type": "display_data"
    }
   ],
   "source": [
    "init_pixel_image()\n",
    "run_network(pixel_intensity.get_pixel_intensity(), v_th_obj.get_v_threshold())\n",
    "v_threshold_slider.observe(update_v_threshold, names='value')\n",
    "pixel_intensity_slider.observe(update_pixel, names='value')\n",
    "pixel_intensity_slider.observe(update_pixel_image, names='value')\n",
    "container = widgets.HBox(children=[ pixel_intensity_slider, v_threshold_slider, pixel_image ] )\n",
    "display( widgets.VBox(children=[ container, output ] ) )"
   ]
  },
  {
   "attachments": {},
   "cell_type": "markdown",
   "metadata": {},
   "source": [
    "## Widgets"
   ]
  },
  {
   "cell_type": "code",
   "execution_count": 15,
   "metadata": {},
   "outputs": [],
   "source": [
    "pixel_intensity_slider = widgets.IntSlider(\n",
    "    value=0,\n",
    "    min=0,\n",
    "    max=255,\n",
    "    step=3,\n",
    "    description='Pixel Intensity:',\n",
    "    orientation='vertical',\n",
    "    readout=True,\n",
    "    # readout_format='.2f',\n",
    ")\n",
    "\n",
    "v_threshold_slider = widgets.FloatSlider(\n",
    "    value=0.1,\n",
    "    min=0.09,\n",
    "    max=1,\n",
    "    step=0.01,\n",
    "    description='Threshold:',\n",
    "    orientation='vertical',\n",
    "    readout=True,\n",
    "    readout_format='.2f',\n",
    ")\n",
    "\n",
    "# Creiamo un widget Image per mostrare il pixel\n",
    "pixel_image = widgets.Image(\n",
    "    format='jpeg',\n",
    "    width=100,\n",
    "    height=100,\n",
    ")\n",
    "\n",
    "def init_pixel_image():\n",
    "    pixel_intensity_value=0.0\n",
    "    image_array = np.ones( (100,100), dtype=np.uint8 )*pixel_intensity_value\n",
    "    # Convertiamo l'array in un oggetto immagine JPEG\n",
    "    pil_image = Image.fromarray(image_array)\n",
    "    pil_image = pil_image.convert('L')\n",
    "    byte_io = io.BytesIO()\n",
    "    pil_image.save(byte_io, 'jpeg')\n",
    "    image_data = byte_io.getvalue()\n",
    "    pixel_image.value = image_data\n",
    "\n",
    "def update_pixel_image(change):\n",
    "    pixel_intensity_value=change.new\n",
    "    image_array = np.ones( (100,100), dtype=np.uint8 )*pixel_intensity_value\n",
    "    # Convertiamo l'array in un oggetto immagine JPEG\n",
    "    pil_image = Image.fromarray(image_array)\n",
    "    pil_image = pil_image.convert('L')\n",
    "    byte_io = io.BytesIO()\n",
    "    pil_image.save(byte_io, 'jpeg')\n",
    "    image_data = byte_io.getvalue()\n",
    "    pixel_image.value = image_data\n",
    "\n",
    "def update_v_threshold(change):\n",
    "    v_th_obj.set_v_threshold(change.new)\n",
    "    run_network(pixel_intensity.get_pixel_intensity(), v_th_obj.get_v_threshold())\n",
    "\n",
    "def update_pixel(change):\n",
    "    pixel_intensity.set_pixel_intensity(change.new)\n",
    "    run_network(pixel_intensity.get_pixel_intensity(), v_th_obj.get_v_threshold())\n",
    "\n",
    "def run_network(pixel_intensity_value, v_threshold):\n",
    "    spike_vector = spikegen.rate(num_steps=200, data=torch.tensor((pixel_intensity_value/(255*10))))\n",
    "    spike_vector = spike_vector*5e-8\n",
    "    prev = 0.0\n",
    "    spk = 0.0\n",
    "    spk_rec = torch.zeros_like(spike_vector)\n",
    "    v_mem = torch.zeros_like(spike_vector)\n",
    "    time_vector = range(0, len(spike_vector))\n",
    "\n",
    "    for i in time_vector:\n",
    "        I = spike_vector[i]\n",
    "        v_mem[i] = prev\n",
    "        spk_rec[i] = spk\n",
    "        prev, spk = lif_neuron(prev, I=I, v_th=v_threshold )\n",
    "    figure=\"../figures/rate-coding-spike-intensity-{:.2f}-threshold-{:.2f}-rate-function.eps\".format( pixel_intensity_value, v_threshold )\n",
    "    title=\"Rate coding, Pixel Intensity {:.2f}, Threshold: {:.2f}\".format( pixel_intensity_value, v_threshold )\n",
    "    v_mem_spike_plot(time_vector, v_mem, spk_rec, spike_vector, filename=figure, title=title)\n"
   ]
  },
  {
   "cell_type": "code",
   "execution_count": 16,
   "metadata": {},
   "outputs": [
    {
     "data": {
      "application/vnd.jupyter.widget-view+json": {
       "model_id": "db8763bd6322432ebb49d48e180bba63",
       "version_major": 2,
       "version_minor": 0
      },
      "text/plain": [
       "VBox(children=(HBox(children=(IntSlider(value=0, description='Pixel Intensity:', max=255, orientation='vertica…"
      ]
     },
     "metadata": {},
     "output_type": "display_data"
    }
   ],
   "source": [
    "init_pixel_image()\n",
    "run_network(pixel_intensity.get_pixel_intensity(), v_th_obj.get_v_threshold())\n",
    "v_threshold_slider.observe(update_v_threshold, names='value')\n",
    "pixel_intensity_slider.observe(update_pixel, names='value')\n",
    "pixel_intensity_slider.observe(update_pixel_image, names='value')\n",
    "container = widgets.HBox(children=[ pixel_intensity_slider, v_threshold_slider, pixel_image ] )\n",
    "display( widgets.VBox(children=[ container, output ] ) )"
   ]
  }
 ],
 "metadata": {
  "kernelspec": {
   "display_name": "tesi-python",
   "language": "python",
   "name": "python3"
  },
  "language_info": {
   "codemirror_mode": {
    "name": "ipython",
    "version": 3
   },
   "file_extension": ".py",
   "mimetype": "text/x-python",
   "name": "python",
   "nbconvert_exporter": "python",
   "pygments_lexer": "ipython3",
   "version": "3.10.6"
  },
  "orig_nbformat": 4
 },
 "nbformat": 4,
 "nbformat_minor": 2
}
