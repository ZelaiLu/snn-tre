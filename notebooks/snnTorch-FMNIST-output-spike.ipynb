{
 "cells": [
  {
   "cell_type": "code",
   "execution_count": 1,
   "metadata": {},
   "outputs": [
    {
     "name": "stdout",
     "output_type": "stream",
     "text": [
      "Requirement already satisfied: snntorch in /home/alessandro/tesi/tesi-python/lib/python3.10/site-packages (0.5.3)\n",
      "Requirement already satisfied: torch>=1.1.0 in /home/alessandro/tesi/tesi-python/lib/python3.10/site-packages (from snntorch) (1.13.0)\n",
      "Requirement already satisfied: numpy>=1.17 in /home/alessandro/tesi/tesi-python/lib/python3.10/site-packages (from snntorch) (1.23.5)\n",
      "Requirement already satisfied: pandas in /home/alessandro/tesi/tesi-python/lib/python3.10/site-packages (from snntorch) (1.5.2)\n",
      "Requirement already satisfied: matplotlib in /home/alessandro/tesi/tesi-python/lib/python3.10/site-packages (from snntorch) (3.6.2)\n",
      "Requirement already satisfied: nvidia-cuda-runtime-cu11==11.7.99 in /home/alessandro/tesi/tesi-python/lib/python3.10/site-packages (from torch>=1.1.0->snntorch) (11.7.99)\n",
      "Requirement already satisfied: typing-extensions in /home/alessandro/tesi/tesi-python/lib/python3.10/site-packages (from torch>=1.1.0->snntorch) (4.4.0)\n",
      "Requirement already satisfied: nvidia-cudnn-cu11==8.5.0.96 in /home/alessandro/tesi/tesi-python/lib/python3.10/site-packages (from torch>=1.1.0->snntorch) (8.5.0.96)\n",
      "Requirement already satisfied: nvidia-cublas-cu11==11.10.3.66 in /home/alessandro/tesi/tesi-python/lib/python3.10/site-packages (from torch>=1.1.0->snntorch) (11.10.3.66)\n",
      "Requirement already satisfied: nvidia-cuda-nvrtc-cu11==11.7.99 in /home/alessandro/tesi/tesi-python/lib/python3.10/site-packages (from torch>=1.1.0->snntorch) (11.7.99)\n",
      "Requirement already satisfied: wheel in /home/alessandro/tesi/tesi-python/lib/python3.10/site-packages (from nvidia-cublas-cu11==11.10.3.66->torch>=1.1.0->snntorch) (0.38.4)\n",
      "Requirement already satisfied: setuptools in /home/alessandro/tesi/tesi-python/lib/python3.10/site-packages (from nvidia-cublas-cu11==11.10.3.66->torch>=1.1.0->snntorch) (59.6.0)\n",
      "Requirement already satisfied: kiwisolver>=1.0.1 in /home/alessandro/tesi/tesi-python/lib/python3.10/site-packages (from matplotlib->snntorch) (1.4.4)\n",
      "Requirement already satisfied: fonttools>=4.22.0 in /home/alessandro/tesi/tesi-python/lib/python3.10/site-packages (from matplotlib->snntorch) (4.38.0)\n",
      "Requirement already satisfied: pyparsing>=2.2.1 in /home/alessandro/tesi/tesi-python/lib/python3.10/site-packages (from matplotlib->snntorch) (3.0.9)\n",
      "Requirement already satisfied: python-dateutil>=2.7 in /home/alessandro/tesi/tesi-python/lib/python3.10/site-packages (from matplotlib->snntorch) (2.8.2)\n",
      "Requirement already satisfied: contourpy>=1.0.1 in /home/alessandro/tesi/tesi-python/lib/python3.10/site-packages (from matplotlib->snntorch) (1.0.6)\n",
      "Requirement already satisfied: pillow>=6.2.0 in /home/alessandro/tesi/tesi-python/lib/python3.10/site-packages (from matplotlib->snntorch) (9.3.0)\n",
      "Requirement already satisfied: packaging>=20.0 in /home/alessandro/tesi/tesi-python/lib/python3.10/site-packages (from matplotlib->snntorch) (22.0)\n",
      "Requirement already satisfied: cycler>=0.10 in /home/alessandro/tesi/tesi-python/lib/python3.10/site-packages (from matplotlib->snntorch) (0.11.0)\n",
      "Requirement already satisfied: pytz>=2020.1 in /home/alessandro/tesi/tesi-python/lib/python3.10/site-packages (from pandas->snntorch) (2022.6)\n",
      "Requirement already satisfied: six>=1.5 in /home/alessandro/tesi/tesi-python/lib/python3.10/site-packages (from python-dateutil>=2.7->matplotlib->snntorch) (1.16.0)\n",
      "Note: you may need to restart the kernel to use updated packages.\n"
     ]
    }
   ],
   "source": [
    "%pip install snntorch"
   ]
  },
  {
   "attachments": {},
   "cell_type": "markdown",
   "metadata": {},
   "source": [
    "# Import librerie"
   ]
  },
  {
   "cell_type": "code",
   "execution_count": 2,
   "metadata": {},
   "outputs": [],
   "source": [
    "import numpy as np\n",
    "import torch\n",
    "import torch.nn as nn\n",
    "import snntorch as snn\n",
    "from snntorch import spikeplot as splt\n",
    "from torch.utils.data import DataLoader\n",
    "from torchvision import transforms\n",
    "from torchvision import datasets\n",
    "import matplotlib.pyplot as plt\n",
    "from pathlib import Path"
   ]
  },
  {
   "attachments": {},
   "cell_type": "markdown",
   "metadata": {},
   "source": [
    "# Batch size"
   ]
  },
  {
   "cell_type": "code",
   "execution_count": 3,
   "metadata": {},
   "outputs": [],
   "source": [
    "batch_size = 512"
   ]
  },
  {
   "attachments": {},
   "cell_type": "markdown",
   "metadata": {},
   "source": [
    "# Dataset transformation"
   ]
  },
  {
   "cell_type": "code",
   "execution_count": 4,
   "metadata": {},
   "outputs": [],
   "source": [
    "# Define a transform\n",
    "transform = transforms.Compose([\n",
    "    transforms.Resize((28, 28)),\n",
    "    transforms.Grayscale(),\n",
    "    transforms.ToTensor(),\n",
    "    transforms.Normalize((0,), (1,))\n",
    "])"
   ]
  },
  {
   "cell_type": "code",
   "execution_count": 5,
   "metadata": {},
   "outputs": [],
   "source": [
    "# dataloader arguments\n",
    "data_root='../data'\n",
    "\n",
    "dtype = torch.float\n",
    "device = torch.device(\"cuda\") if torch.cuda.is_available() else torch.device(\"cpu\")"
   ]
  },
  {
   "attachments": {},
   "cell_type": "markdown",
   "metadata": {},
   "source": [
    "# Datasets"
   ]
  },
  {
   "cell_type": "code",
   "execution_count": 6,
   "metadata": {},
   "outputs": [],
   "source": [
    "fmnist_train = datasets.FashionMNIST(data_root, train=True, download=True, transform=transform)\n",
    "fmnist_test = datasets.FashionMNIST(data_root, train=False, download=True, transform=transform)\n"
   ]
  },
  {
   "attachments": {},
   "cell_type": "markdown",
   "metadata": {},
   "source": [
    "# Dataloaders"
   ]
  },
  {
   "cell_type": "code",
   "execution_count": 7,
   "metadata": {},
   "outputs": [],
   "source": [
    "# Create DataLoaders\n",
    "train_loader = DataLoader(fmnist_train, batch_size=batch_size, shuffle=True, drop_last=True)\n",
    "test_loader = DataLoader(fmnist_test, batch_size=batch_size, shuffle=True, drop_last=True)"
   ]
  },
  {
   "cell_type": "code",
   "execution_count": 8,
   "metadata": {},
   "outputs": [],
   "source": [
    "# Utilities\n",
    "\n",
    "# Targets dictionary\n",
    "target_label = {\n",
    "    0: 'T-shirt/top',\n",
    "    1: 'Trouser',\n",
    "    2: 'Pullover',\n",
    "    3: 'Dress',\n",
    "    4: 'Coat',\n",
    "    5: 'Sandal',\n",
    "    6: 'Shirt',\n",
    "    7: 'Sneaker',\n",
    "    8: 'Bag',\n",
    "    9: 'Ankle boot'\n",
    "}\n",
    "\n",
    "lib = \"snntorch\"\n",
    "\n",
    "def plot_data_spike_recording(spk_rec, batch_size, targets, data, index=0):\n",
    "    for i in range(0,batch_size):\n",
    "        item_type = target_label[targets[i].item()].lower().replace(' ','-').replace('/', '-')\n",
    "        save_path = \"../figures/classifications/{}/{}\".format(\n",
    "            lib,\n",
    "            target_label[targets[i].item()].lower().replace(' ','-').replace('/', '-'),\n",
    "        )\n",
    "        Path(save_path).mkdir(parents=True, exist_ok=True)\n",
    "\n",
    "        fig = plt.figure(figsize=(16, 9))\n",
    "        bx, ax = fig.subplots(ncols=2)\n",
    "        ax.set_xlim((-1,210))\n",
    "        ax.set_ylim((-1,10))\n",
    "        ax.set_yticks(range(0,10), target_label.items())\n",
    "        ss = spk_rec[:,i,:]\n",
    "        splt.raster(ss, ax, s=1, c=\"black\")\n",
    "\n",
    "        plt.title(\"Classification - {} - {}\".format(target_label[targets[i].item()], targets[i]))\n",
    "        plt.xlabel(\"Time step\")\n",
    "        plt.ylabel(\"Neuron Number, Item class\")\n",
    "\n",
    "        bx.set_title(target_label[targets[i].item()])\n",
    "        bx.set_xticks([], None)\n",
    "        bx.set_yticks([], None)\n",
    "        bx.imshow(data[i].squeeze().detach())\n",
    "\n",
    "        fig.tight_layout()\n",
    "        fig.savefig(\n",
    "            \"{}/{}-{}.eps\".format(\n",
    "                save_path,\n",
    "                target_label[targets[i].item()].lower().replace(' ','-').replace('/', '-'),\n",
    "                (index*batch_size)+i\n",
    "            ),\n",
    "            format='eps'\n",
    "        )\n",
    "        fig.savefig(\n",
    "            \"{}/{}-{}.png\".format(\n",
    "                save_path,\n",
    "                target_label[targets[i].item()].lower().replace(' ','-').replace('/', '-'),\n",
    "                (index*batch_size)+i\n",
    "            ),\n",
    "            format='png'\n",
    "        )\n",
    "        plt.close()"
   ]
  },
  {
   "attachments": {},
   "cell_type": "markdown",
   "metadata": {},
   "source": [
    "# Architettura e dinamica temporale"
   ]
  },
  {
   "cell_type": "code",
   "execution_count": 9,
   "metadata": {},
   "outputs": [],
   "source": [
    "# Network Architecture\n",
    "num_inputs = 28*28\n",
    "num_hidden = 512\n",
    "num_outputs = 10\n",
    "\n",
    "# Temporal Dynamics\n",
    "num_steps = 200\n",
    "beta = 0.95"
   ]
  },
  {
   "attachments": {},
   "cell_type": "markdown",
   "metadata": {},
   "source": [
    "# Definizione della rete"
   ]
  },
  {
   "cell_type": "code",
   "execution_count": 10,
   "metadata": {},
   "outputs": [],
   "source": [
    "# Define Network\n",
    "class Net(nn.Module):\n",
    "    def __init__(self):\n",
    "        super().__init__()\n",
    "\n",
    "        # Initialize layers\n",
    "        self.fc1 = nn.Linear(num_inputs, num_hidden)\n",
    "        self.lif1 = snn.Leaky(beta=beta)\n",
    "        self.fc2 = nn.Linear(num_hidden, num_outputs)\n",
    "        self.lif2 = snn.Leaky(beta=beta)\n",
    "\n",
    "    def forward(self, x):\n",
    "\n",
    "        # Initialize hidden states at t=0\n",
    "        mem1 = self.lif1.init_leaky()\n",
    "        mem2 = self.lif2.init_leaky()\n",
    "\n",
    "        # Record the final layer\n",
    "        spk2_rec = []\n",
    "        mem2_rec = []\n",
    "\n",
    "        for step in range(num_steps):\n",
    "            cur1 = self.fc1(x)\n",
    "            spk1, mem1 = self.lif1(cur1, mem1)\n",
    "            cur2 = self.fc2(spk1)\n",
    "            spk2, mem2 = self.lif2(cur2, mem2)\n",
    "            spk2_rec.append(spk2)\n",
    "            mem2_rec.append(mem2)\n",
    "\n",
    "        return torch.stack(spk2_rec, dim=0), torch.stack(mem2_rec, dim=0)"
   ]
  },
  {
   "attachments": {},
   "cell_type": "markdown",
   "metadata": {},
   "source": [
    "# Creazione della rete"
   ]
  },
  {
   "cell_type": "code",
   "execution_count": 11,
   "metadata": {},
   "outputs": [],
   "source": [
    "\"\"\"\n",
    "Network instantiation\n",
    "\"\"\"\n",
    "net = Net().to(device=device)"
   ]
  },
  {
   "cell_type": "code",
   "execution_count": 12,
   "metadata": {},
   "outputs": [],
   "source": [
    "run_train = False\n",
    "state_dict_file_path = \"../models/snnTorch-FMNIST-training.pt\"\n",
    "\n",
    "try:\n",
    "    load_state_dict = torch.load( state_dict_file_path, map_location=device, )\n",
    "    net.load_state_dict(load_state_dict)\n",
    "except FileNotFoundError:\n",
    "    print( \"File not found running training\" )\n",
    "    run_train = True\n",
    "\n",
    "if ( run_train == True ):\n",
    "    print(\"Run the Rockpool-FMNIST-training.ipynb first\")"
   ]
  },
  {
   "cell_type": "code",
   "execution_count": 13,
   "metadata": {},
   "outputs": [
    {
     "ename": "",
     "evalue": "",
     "output_type": "error",
     "traceback": [
      "\u001b[1;31mCanceled future for execute_request message before replies were done"
     ]
    },
    {
     "ename": "",
     "evalue": "",
     "output_type": "error",
     "traceback": [
      "\u001b[1;31mThe Kernel crashed while executing code in the the current cell or a previous cell. Please review the code in the cell(s) to identify a possible cause of the failure. Click <a href='https://aka.ms/vscodeJupyterKernelCrash'>here</a> for more info. View Jupyter <a href='command:jupyter.viewOutput'>log</a> for further details."
     ]
    }
   ],
   "source": [
    "# Changed batch size to make it easy to print image\n",
    "index=0\n",
    "\n",
    "# drop_last switched to False to keep all samples\n",
    "test_loader = DataLoader(fmnist_test, batch_size=batch_size, shuffle=False, drop_last=False)\n",
    "\n",
    "with torch.no_grad():\n",
    "  net.eval()\n",
    "  for data, targets in test_loader:\n",
    "    device_data = data.to(device)\n",
    "    targets = targets.to(device)\n",
    "\n",
    "    # forward pass\n",
    "    test_spk, _ = net(device_data.view(data.size(0), -1))\n",
    "\n",
    "    plot_data_spike_recording(spk_rec=test_spk, batch_size=batch_size, targets=targets, data=data, index=index)\n",
    "    index += 1"
   ]
  }
 ],
 "metadata": {
  "kernelspec": {
   "display_name": "tesi-python",
   "language": "python",
   "name": "python3"
  },
  "language_info": {
   "codemirror_mode": {
    "name": "ipython",
    "version": 3
   },
   "file_extension": ".py",
   "mimetype": "text/x-python",
   "name": "python",
   "nbconvert_exporter": "python",
   "pygments_lexer": "ipython3",
   "version": "3.10.6"
  },
  "orig_nbformat": 4
 },
 "nbformat": 4,
 "nbformat_minor": 2
}
